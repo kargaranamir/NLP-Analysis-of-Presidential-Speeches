{
 "cells": [
  {
   "cell_type": "code",
   "execution_count": 1,
   "metadata": {},
   "outputs": [],
   "source": [
    "from bs4 import BeautifulSoup\n",
    "import requests\n",
    "import time\n",
    "import json\n",
    "import csv\n",
    "import os"
   ]
  },
  {
   "cell_type": "code",
   "execution_count": 2,
   "metadata": {},
   "outputs": [],
   "source": [
    "def get_links(search_url=None):\n",
    "    \"\"\"\n",
    "    Note:\n",
    "        Go to https://www.presidency.ucsb.edu/advanced-search and specify your cases then copy the changed url\n",
    "        For example to download State of Union massages: https://www.presidency.ucsb.edu/advanced-search?field-keywords=&field-keywords2=&field-keywords3=&from[date]=01-01-1945&to[date]=12-31-2021&person2=&category2[]=45&category2[]=400&items_per_page=100\n",
    "    \n",
    "    Retrun:\n",
    "        links: list of extracted links\n",
    "        \n",
    "    ٍExample:\n",
    "        link_of_documnets = get_links(\"https://www.presidency.ucsb.edu/advanced-search?field-keywords=&field-keywords2=&field-keywords3=&from[date]=01-01-1945&to[date]=12-31-2021&person2=&category2[]=45&category2[]=400&items_per_page=100\")        \n",
    "    \"\"\"\n",
    "    \n",
    "    SLEEP_TIME = 2 # time between send queries in seconds\n",
    "    PREFIX = \"https://www.presidency.ucsb.edu\"\n",
    "    links = [] # list of extracted links\n",
    "    \n",
    "    while search_url:\n",
    "        html_page = requests.get(search_url)\n",
    "        soup = BeautifulSoup(html_page.text, \"html.parser\")\n",
    "        \n",
    "        # find all link in the current page\n",
    "        for block in soup.find_all(\"tr\", {\"class\": [\"even\", \"odd\"]}):\n",
    "            founded_link = block.find(\"td\", {\"class\": \"views-field-title\"}).find(\"a\")[\"href\"]\n",
    "            links.append(PREFIX + founded_link)\n",
    "        \n",
    "        # next page link\n",
    "        search_url = soup.find(\"a\", {\"title\": \"Go to next page\"})\n",
    "        if search_url:\n",
    "            search_url = PREFIX + search_url[\"href\"]\n",
    "\n",
    "        # time sleep\n",
    "        time.sleep(SLEEP_TIME)\n",
    "\n",
    "    return links"
   ]
  },
  {
   "cell_type": "code",
   "execution_count": 3,
   "metadata": {},
   "outputs": [],
   "source": [
    "def get_documnets(links: list, PATH=None):\n",
    "    \n",
    "    \n",
    "    SLEEP_TIME = 2 # time between send queries in seconds\n",
    "    PATH = \"data\" if PATH is None else PATH.rstrip('/') # path of downloaded documents\n",
    "    HEADER = [\"file\", \"link\", \"date\", \"title\", \"speaker\", \"citation\", \"categories\"] # header of csv file\n",
    "\n",
    "    # create the path if not exist\n",
    "    if not os.path.exists(PATH + '/speaches'):\n",
    "        os.makedirs(PATH + '/speaches')\n",
    "\n",
    "    # generate csv file including information of downloaded documents0\n",
    "    with open(PATH + '/information.csv', 'w', newline='') as csvfile:\n",
    "        writer = csv.writer(csvfile, delimiter=\",\")\n",
    "        writer.writerow(HEADER)\n",
    "\n",
    "\n",
    "    # extract data\n",
    "    for index, link in enumerate(links):\n",
    "        html_page = requests.get(link)\n",
    "        soup = BeautifulSoup(html_page.text, \"html.parser\")\n",
    "        text = soup.find(\"div\", {\"class\": \"field-docs-content\"}).text\n",
    "        date = soup.find(\"span\", {\"class\": \"date-display-single\"}).text\n",
    "        title = soup.find(\"div\", {\"class\": \"field-ds-doc-title\"}).text.strip()\n",
    "        speaker = soup.find(\"h3\", {\"class\": \"diet-title\"}).text\n",
    "        citation = soup.find(\"p\", {\"class\": \"ucsbapp_citation\"}).text\n",
    "        categories = str([i.text for i in soup.findAll(attrs={\"property\": \"rdfs:label skos:prefLabel\"})])\n",
    "        data = [str(index)+\".txt\", link, date, title, speaker, citation, categories]\n",
    "        \n",
    "        \n",
    "        # store data\n",
    "        with open(PATH + '/information.csv', 'a', newline='') as csvfile:\n",
    "            writer = csv.writer(csvfile, delimiter=\",\")\n",
    "            writer.writerow(data)\n",
    "\n",
    "        with open(PATH + \"/speaches/\" + str(index)+\".txt\", 'w') as f:\n",
    "            f.write(text)\n",
    "\n",
    "        with open(PATH + \"/speaches/\" + str(index)+\".html\", 'w') as f:\n",
    "            f.write(html_page.text)\n",
    "            \n",
    "        # time sleep\n",
    "        time.sleep(SLEEP_TIME)"
   ]
  },
  {
   "cell_type": "code",
   "execution_count": 4,
   "metadata": {},
   "outputs": [],
   "source": [
    "def get_documnets_with_url(search_url=None, PATH=None):\n",
    "    link_of_documnets = get_links(search_url=search_url)\n",
    "    get_documnets(links=link_of_documnets, PATH=PATH)"
   ]
  },
  {
   "cell_type": "code",
   "execution_count": 5,
   "metadata": {
    "scrolled": true
   },
   "outputs": [],
   "source": [
    "get_documnets_with_url('https://www.presidency.ucsb.edu/advanced-search?field-keywords=&field-keywords2=&field-keywords3=&from[date]=01-01-1945&to[date]=12-31-2021&person2=&category2[]=45&category2[]=400&items_per_page=100', 'SOTU_data')"
   ]
  }
 ],
 "metadata": {
  "kernelspec": {
   "display_name": "Python 3",
   "language": "python",
   "name": "python3"
  },
  "language_info": {
   "codemirror_mode": {
    "name": "ipython",
    "version": 3
   },
   "file_extension": ".py",
   "mimetype": "text/x-python",
   "name": "python",
   "nbconvert_exporter": "python",
   "pygments_lexer": "ipython3",
   "version": "3.6.5"
  }
 },
 "nbformat": 4,
 "nbformat_minor": 2
}
