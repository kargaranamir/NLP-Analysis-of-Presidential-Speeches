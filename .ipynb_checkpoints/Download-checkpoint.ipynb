{
 "cells": [
  {
   "cell_type": "code",
   "execution_count": 27,
   "metadata": {},
   "outputs": [],
   "source": [
    "from bs4 import BeautifulSoup\n",
    "import requests\n",
    "import time\n",
    "import json\n",
    "from tqdm import tqdm\n",
    "import csv\n",
    "import os"
   ]
  },
  {
   "cell_type": "code",
   "execution_count": 5,
   "metadata": {},
   "outputs": [],
   "source": [
    "def get_links(search_url=None):\n",
    "    \"\"\"\n",
    "    Note:\n",
    "        Go to https://www.presidency.ucsb.edu/advanced-search and specify your cases then copy the changed url\n",
    "        For example to download State of Union massages: https://www.presidency.ucsb.edu/advanced-search?field-keywords=&field-keywords2=&field-keywords3=&from[date]=01-01-1945&to[date]=12-31-2021&person2=&category2[]=45&category2[]=400&items_per_page=100\n",
    "    \n",
    "    Retrun:\n",
    "        links: list of extracted links\n",
    "        \n",
    "    ٍExample:\n",
    "        link_of_documnets = get_links(\"https://www.presidency.ucsb.edu/advanced-search?field-keywords=&field-keywords2=&field-keywords3=&from[date]=01-01-1945&to[date]=12-31-2021&person2=&category2[]=45&category2[]=400&items_per_page=100\")    \"\"\"\n",
    "    SLEEP_TIME = 2 # time between send queries in seconds\n",
    "    PREFIX = \"https://www.presidency.ucsb.edu\"\n",
    "    links = [] # list of extracted links\n",
    "    \n",
    "\n",
    "    while search_url:\n",
    "        page = requests.get(search_url)\n",
    "        soup = BeautifulSoup(page.text,\"html.parser\")\n",
    "        \n",
    "        for block in soup.find_all(\"tr\", {\"class\": [\"even\", \"odd\"]}):\n",
    "            founded_link = block.find(\"td\", {\"class\": \"views-field-title\"}).find(\"a\")[\"href\"]\n",
    "            links.append(PREFIX + founded_link)\n",
    "            \n",
    "        search_url = soup.find(\"a\", {\"title\": \"Go to next page\"})\n",
    "        if search_url:\n",
    "            search_url = PREFIX + search_url[\"href\"]\n",
    "\n",
    "        time.sleep(SLEEP_TIME)\n",
    "\n",
    "    return links"
   ]
  },
  {
   "cell_type": "code",
   "execution_count": 53,
   "metadata": {},
   "outputs": [],
   "source": [
    "def get_documnets(links: list, PATH=None):\n",
    "    \n",
    "    SLEEP_TIME = 2 # time between send queries in seconds\n",
    "    \n",
    "    PATH = \"speaches\" if PATH is None else PATH.rstrip('/')\n",
    "\n",
    "    HEADER = [\"file\", \"link\", \"date\", \"title\", \"speaker\", \"citation\", \"categories\"]\n",
    "    \n",
    "    with open('information.csv', 'w', newline='') as csvfile:\n",
    "        writer = csv.writer(csvfile, delimiter=\",\")\n",
    "        writer.writerow(HEADER)\n",
    "\n",
    "    if not os.path.exists(PATH):\n",
    "        os.makedirs(PATH)\n",
    "\n",
    "\n",
    "    for index, link in enumerate(links):\n",
    "        page = requests.get(link)\n",
    "        soup = BeautifulSoup(page.text, \"html.parser\")\n",
    "        text = soup.find(\"div\", {\"class\": \"field-docs-content\"}).text\n",
    "        date = soup.find(\"span\", {\"class\": \"date-display-single\"}).text\n",
    "        title = soup.find(\"div\", {\"class\": \"field-ds-doc-title\"}).text.strip()\n",
    "        speaker = soup.find(\"h3\", {\"class\": \"diet-title\"}).text\n",
    "        citation = soup.find(\"p\", {\"class\": \"ucsbapp_citation\"}).text\n",
    "        categories = str([i.text for i in soup.findAll(attrs={\"property\": \"rdfs:label skos:prefLabel\"})])\n",
    "        \n",
    "        data = [str(index)+\".txt\", link, date, title, speaker, citation, categories]\n",
    "        \n",
    "        with open('information.csv', 'a', newline='') as csvfile:\n",
    "            writer = csv.writer(csvfile, delimiter=\",\")\n",
    "            writer.writerow(data)\n",
    "\n",
    "        with open(PATH + \"/\" + str(index)+\".txt\", 'w') as f:\n",
    "            f.write(text)\n",
    "\n",
    "        with open(PATH + \"/\" + str(index)+\".html\", 'w') as f:\n",
    "            f.write(page.text)\n",
    "\n",
    "        time.sleep(SLEEP_TIME)\n"
   ]
  }
 ],
 "metadata": {
  "kernelspec": {
   "display_name": "Python 3",
   "language": "python",
   "name": "python3"
  },
  "language_info": {
   "codemirror_mode": {
    "name": "ipython",
    "version": 3
   },
   "file_extension": ".py",
   "mimetype": "text/x-python",
   "name": "python",
   "nbconvert_exporter": "python",
   "pygments_lexer": "ipython3",
   "version": "3.6.5"
  }
 },
 "nbformat": 4,
 "nbformat_minor": 2
}
